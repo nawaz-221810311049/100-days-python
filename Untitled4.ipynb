{
  "nbformat": 4,
  "nbformat_minor": 0,
  "metadata": {
    "colab": {
      "provenance": [],
      "mount_file_id": "1k8IBQyhtPIqgCsXZPp9O0_0R1Mkbt77U",
      "authorship_tag": "ABX9TyNSJHFOzum6wz04qy5FICse",
      "include_colab_link": true
    },
    "kernelspec": {
      "name": "python3",
      "display_name": "Python 3"
    },
    "language_info": {
      "name": "python"
    }
  },
  "cells": [
    {
      "cell_type": "markdown",
      "metadata": {
        "id": "view-in-github",
        "colab_type": "text"
      },
      "source": [
        "<a href=\"https://colab.research.google.com/github/nawaz-221810311049/100-days-python/blob/main/Untitled4.ipynb\" target=\"_parent\"><img src=\"https://colab.research.google.com/assets/colab-badge.svg\" alt=\"Open In Colab\"/></a>"
      ]
    },
    {
      "cell_type": "code",
      "execution_count": null,
      "metadata": {
        "id": "7t8p278gVNmA"
      },
      "outputs": [],
      "source": [
        "# IMPORTING IMPORTANT LIBRARIES\n",
        "import pandas as pd\n",
        "import numpy as np \n",
        "import math"
      ]
    },
    {
      "cell_type": "code",
      "source": [
        "data = pd.read_csv(\"PFW_2021_public.csv\")\n",
        "data.tail"
      ],
      "metadata": {
        "id": "FbZrALwFVZ27"
      },
      "execution_count": null,
      "outputs": []
    },
    {
      "cell_type": "code",
      "source": [
        "sampled_data = data.sample(n=100,replace=False)"
      ],
      "metadata": {
        "id": "SHvqTFSnVaNX"
      },
      "execution_count": null,
      "outputs": []
    },
    {
      "cell_type": "code",
      "source": [
        "import os  \n",
        "os.makedirs('folder/subfolder', exist_ok=True)  \n",
        "sampled_data.to_csv('folder/subfolder/out.csv')  "
      ],
      "metadata": {
        "id": "UE3OSOZEVaUe"
      },
      "execution_count": null,
      "outputs": []
    },
    {
      "cell_type": "code",
      "source": [
        "def create_bins(lower_bound, width, quantity):\n",
        "    \"\"\" create_bins returns an equal-width (distance) partitioning. \n",
        "        It returns an ascending list of tuples, representing the intervals.\n",
        "        A tuple bins[i], i.e. (bins[i][0], bins[i][1])  with i > 0 \n",
        "        and i < quantity, satisfies the following conditions:\n",
        "            (1) bins[i][0] + width == bins[i][1]\n",
        "            (2) bins[i-1][0] + width == bins[i][0] and\n",
        "                bins[i-1][1] + width == bins[i][1]\n",
        "    \"\"\"\n",
        "    \n",
        "\n",
        "    bins = []\n",
        "    for low in range(lower_bound, \n",
        "                     lower_bound + quantity*width + 1, width):\n",
        "        bins.append((low, low+width))\n",
        "    return bins"
      ],
      "metadata": {
        "id": "ltzZL-3QVaaB"
      },
      "execution_count": null,
      "outputs": []
    },
    {
      "cell_type": "code",
      "source": [
        "bins = create_bins(lower_bound=0,\n",
        "                   width=10,\n",
        "                   quantity=500)\n",
        "\n",
        "bins\n",
        "\n",
        "\n",
        "\n"
      ],
      "metadata": {
        "id": "GQdUcJvsVafj"
      },
      "execution_count": null,
      "outputs": []
    },
    {
      "cell_type": "code",
      "source": [
        "bins2 = pd.IntervalIndex.from_tuples(bins)\n",
        "x = data['how_many']\n",
        "data['binned']=pd.cut(x,bins2)\n",
        "\n",
        "\n"
      ],
      "metadata": {
        "colab": {
          "base_uri": "https://localhost:8080/"
        },
        "id": "yOH9paqg7pHU",
        "outputId": "95679484-1410-4372-bb04-5532d97aebfe"
      },
      "execution_count": null,
      "outputs": [
        {
          "output_type": "execute_result",
          "data": {
            "text/plain": [
              "loc_id                              L2438500\n",
              "latitude                           49.094377\n",
              "longitude                        -117.753499\n",
              "subnational1_code                      CA-BC\n",
              "entry_technique          /GOOGLE_MAP/ZOOM:18\n",
              "sub_id                             S80518276\n",
              "obs_id                         OBS1067337580\n",
              "Month                                      2\n",
              "Day                                        6\n",
              "Year                                    2021\n",
              "PROJ_PERIOD_ID                      PFW_2021\n",
              "species_code                          daejun\n",
              "how_many                                   6\n",
              "valid                                      1\n",
              "reviewed                                   0\n",
              "day1_am                                    1\n",
              "day1_pm                                  1.0\n",
              "day2_am                                  1.0\n",
              "day2_pm                                  1.0\n",
              "effort_hrs_atleast                     1.001\n",
              "snow_dep_atleast                      15.001\n",
              "Data_Entry_Method     PFW Mobile App v1.1.17\n",
              "binned                               (0, 10]\n",
              "Name: 390106, dtype: object"
            ]
          },
          "metadata": {},
          "execution_count": 45
        }
      ]
    },
    {
      "cell_type": "code",
      "source": [],
      "metadata": {
        "id": "7faJz9Iw-dzi"
      },
      "execution_count": null,
      "outputs": []
    }
  ]
}